{
 "cells": [
  {
   "cell_type": "code",
   "execution_count": 4,
   "metadata": {},
   "outputs": [],
   "source": [
    "import pandas as pd"
   ]
  },
  {
   "cell_type": "code",
   "execution_count": 11,
   "metadata": {},
   "outputs": [],
   "source": [
    "df = pd.read_json('http://172.24.0.1:8083/vendas/v1/6892/filial/115')"
   ]
  },
  {
   "cell_type": "code",
   "execution_count": 12,
   "metadata": {},
   "outputs": [
    {
     "data": {
      "text/html": [
       "<div>\n",
       "<style scoped>\n",
       "    .dataframe tbody tr th:only-of-type {\n",
       "        vertical-align: middle;\n",
       "    }\n",
       "\n",
       "    .dataframe tbody tr th {\n",
       "        vertical-align: top;\n",
       "    }\n",
       "\n",
       "    .dataframe thead th {\n",
       "        text-align: right;\n",
       "    }\n",
       "</style>\n",
       "<table border=\"1\" class=\"dataframe\">\n",
       "  <thead>\n",
       "    <tr style=\"text-align: right;\">\n",
       "      <th></th>\n",
       "      <th>0</th>\n",
       "    </tr>\n",
       "  </thead>\n",
       "  <tbody>\n",
       "    <tr>\n",
       "      <th>0</th>\n",
       "      <td>{\"DATA_EMISSAO\":\"2010-01-01\",\"CODIGO_FILIAL\":\"...</td>\n",
       "    </tr>\n",
       "    <tr>\n",
       "      <th>1</th>\n",
       "      <td>{\"DATA_EMISSAO\":\"2010-01-03\",\"CODIGO_FILIAL\":\"...</td>\n",
       "    </tr>\n",
       "    <tr>\n",
       "      <th>2</th>\n",
       "      <td>{\"DATA_EMISSAO\":\"2010-01-06\",\"CODIGO_FILIAL\":\"...</td>\n",
       "    </tr>\n",
       "    <tr>\n",
       "      <th>3</th>\n",
       "      <td>{\"DATA_EMISSAO\":\"2010-01-07\",\"CODIGO_FILIAL\":\"...</td>\n",
       "    </tr>\n",
       "    <tr>\n",
       "      <th>4</th>\n",
       "      <td>{\"DATA_EMISSAO\":\"2010-01-10\",\"CODIGO_FILIAL\":\"...</td>\n",
       "    </tr>\n",
       "    <tr>\n",
       "      <th>...</th>\n",
       "      <td>...</td>\n",
       "    </tr>\n",
       "    <tr>\n",
       "      <th>187</th>\n",
       "      <td>{\"DATA_EMISSAO\":\"2013-11-05\",\"CODIGO_FILIAL\":\"...</td>\n",
       "    </tr>\n",
       "    <tr>\n",
       "      <th>188</th>\n",
       "      <td>{\"DATA_EMISSAO\":\"2013-11-10\",\"CODIGO_FILIAL\":\"...</td>\n",
       "    </tr>\n",
       "    <tr>\n",
       "      <th>189</th>\n",
       "      <td>{\"DATA_EMISSAO\":\"2013-12-06\",\"CODIGO_FILIAL\":\"...</td>\n",
       "    </tr>\n",
       "    <tr>\n",
       "      <th>190</th>\n",
       "      <td>{\"DATA_EMISSAO\":\"2013-12-10\",\"CODIGO_FILIAL\":\"...</td>\n",
       "    </tr>\n",
       "    <tr>\n",
       "      <th>191</th>\n",
       "      <td>{\"DATA_EMISSAO\":\"2013-12-25\",\"CODIGO_FILIAL\":\"...</td>\n",
       "    </tr>\n",
       "  </tbody>\n",
       "</table>\n",
       "<p>192 rows × 1 columns</p>\n",
       "</div>"
      ],
      "text/plain": [
       "                                                     0\n",
       "0    {\"DATA_EMISSAO\":\"2010-01-01\",\"CODIGO_FILIAL\":\"...\n",
       "1    {\"DATA_EMISSAO\":\"2010-01-03\",\"CODIGO_FILIAL\":\"...\n",
       "2    {\"DATA_EMISSAO\":\"2010-01-06\",\"CODIGO_FILIAL\":\"...\n",
       "3    {\"DATA_EMISSAO\":\"2010-01-07\",\"CODIGO_FILIAL\":\"...\n",
       "4    {\"DATA_EMISSAO\":\"2010-01-10\",\"CODIGO_FILIAL\":\"...\n",
       "..                                                 ...\n",
       "187  {\"DATA_EMISSAO\":\"2013-11-05\",\"CODIGO_FILIAL\":\"...\n",
       "188  {\"DATA_EMISSAO\":\"2013-11-10\",\"CODIGO_FILIAL\":\"...\n",
       "189  {\"DATA_EMISSAO\":\"2013-12-06\",\"CODIGO_FILIAL\":\"...\n",
       "190  {\"DATA_EMISSAO\":\"2013-12-10\",\"CODIGO_FILIAL\":\"...\n",
       "191  {\"DATA_EMISSAO\":\"2013-12-25\",\"CODIGO_FILIAL\":\"...\n",
       "\n",
       "[192 rows x 1 columns]"
      ]
     },
     "execution_count": 12,
     "metadata": {},
     "output_type": "execute_result"
    }
   ],
   "source": [
    "df"
   ]
  },
  {
   "cell_type": "code",
   "execution_count": null,
   "metadata": {},
   "outputs": [],
   "source": [
    "df = pd.DataFrame(df)"
   ]
  },
  {
   "cell_type": "code",
   "execution_count": null,
   "metadata": {},
   "outputs": [],
   "source": [
    "df"
   ]
  },
  {
   "cell_type": "code",
   "execution_count": null,
   "metadata": {},
   "outputs": [],
   "source": []
  },
  {
   "cell_type": "code",
   "execution_count": null,
   "metadata": {},
   "outputs": [],
   "source": []
  },
  {
   "cell_type": "code",
   "execution_count": null,
   "metadata": {},
   "outputs": [],
   "source": []
  },
  {
   "cell_type": "code",
   "execution_count": null,
   "metadata": {},
   "outputs": [],
   "source": []
  }
 ],
 "metadata": {
  "kernelspec": {
   "display_name": "Python 3",
   "language": "python",
   "name": "python3"
  },
  "language_info": {
   "codemirror_mode": {
    "name": "ipython",
    "version": 3
   },
   "file_extension": ".py",
   "mimetype": "text/x-python",
   "name": "python",
   "nbconvert_exporter": "python",
   "pygments_lexer": "ipython3",
   "version": "3.8.5"
  }
 },
 "nbformat": 4,
 "nbformat_minor": 4
}
